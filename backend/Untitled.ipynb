{
 "cells": [
  {
   "cell_type": "code",
   "execution_count": 1,
   "id": "f818b037-6d94-4a7a-92f6-13bacba32a69",
   "metadata": {},
   "outputs": [
    {
     "name": "stderr",
     "output_type": "stream",
     "text": [
      "/opt/homebrew/Caskroom/miniforge/base/lib/python3.10/site-packages/tqdm/auto.py:21: TqdmWarning: IProgress not found. Please update jupyter and ipywidgets. See https://ipywidgets.readthedocs.io/en/stable/user_install.html\n",
      "  from .autonotebook import tqdm as notebook_tqdm\n"
     ]
    }
   ],
   "source": [
    "from typing import Dict, Any\n",
    "\n",
    "from langgraph.graph import StateGraph, MessagesState\n",
    "from langchain_core.messages import HumanMessage, AIMessage\n",
    "from langchain_core.output_parsers import StrOutputParser\n",
    "from langchain_google_genai import ChatGoogleGenerativeAI\n",
    "from langgraph.checkpoint.base import Checkpoint, CheckpointMetadata, ChannelVersions\n",
    "\n"
   ]
  },
  {
   "cell_type": "code",
   "execution_count": 2,
   "id": "0f3ddabc-2b07-4c5e-88b7-dbc50b2a272b",
   "metadata": {},
   "outputs": [
    {
     "data": {
      "text/plain": [
       "True"
      ]
     },
     "execution_count": 2,
     "metadata": {},
     "output_type": "execute_result"
    }
   ],
   "source": [
    "from dotenv import load_dotenv\n",
    "load_dotenv(override=True)"
   ]
  },
  {
   "cell_type": "code",
   "execution_count": 3,
   "id": "49b2fa60-5370-48c4-9b03-4a3816f3b7bd",
   "metadata": {},
   "outputs": [],
   "source": [
    "from typing import Annotated\n",
    "from typing_extensions import TypedDict\n",
    "from langchain_core.messages import AnyMessage\n",
    "from langgraph.graph.message import add_messages"
   ]
  },
  {
   "cell_type": "code",
   "execution_count": 4,
   "id": "af4e2298-a495-46bb-9007-43c72abedfa8",
   "metadata": {},
   "outputs": [],
   "source": [
    "from prompts import prompt_context_question\n",
    "from config import GOOGLE_GENAI_MODEL\n"
   ]
  },
  {
   "cell_type": "code",
   "execution_count": 5,
   "id": "7c2dc853-9504-46df-adfb-58f2ead9ceb9",
   "metadata": {},
   "outputs": [],
   "source": [
    "import sqlite3"
   ]
  },
  {
   "cell_type": "code",
   "execution_count": 6,
   "id": "ae06b50b-efc2-4df6-a72c-770a15532da1",
   "metadata": {},
   "outputs": [],
   "source": [
    "db_path = \"state_db/example.db\"\n",
    "conn = sqlite3.connect(db_path, check_same_thread=False)"
   ]
  },
  {
   "cell_type": "code",
   "execution_count": 7,
   "id": "06f2b58d-6970-4d03-826a-d303d94a1aee",
   "metadata": {},
   "outputs": [],
   "source": [
    "from langgraph.checkpoint.sqlite import SqliteSaver\n",
    "memory = SqliteSaver(conn)"
   ]
  },
  {
   "cell_type": "code",
   "execution_count": null,
   "id": "3a2ac770-ae9a-4520-9f78-bbc148474072",
   "metadata": {},
   "outputs": [],
   "source": []
  },
  {
   "cell_type": "code",
   "execution_count": null,
   "id": "ec5e4ba3-4894-4e57-9ea7-87b8b57f9c5f",
   "metadata": {},
   "outputs": [],
   "source": []
  },
  {
   "cell_type": "code",
   "execution_count": 8,
   "id": "7220f7c6-f6ea-4b00-88ee-a61f38aa3bad",
   "metadata": {},
   "outputs": [],
   "source": [
    "llm = ChatGoogleGenerativeAI(model=GOOGLE_GENAI_MODEL)\n",
    "parser = StrOutputParser()"
   ]
  },
  {
   "cell_type": "code",
   "execution_count": 9,
   "id": "efc12e9d-791e-42e1-b2c2-9051a13697a9",
   "metadata": {},
   "outputs": [],
   "source": [
    "def generate(state: MessagesState, config: Dict[str, Any]) -> MessagesState:\n",
    "    configurable = config.get(\"configurable\", {})\n",
    "    #vectordb = configurable.get(\"vectordb\")\n",
    "\n",
    "    messages = state.get(\"messages\", [])\n",
    "    question = next((msg.content for msg in reversed(messages) if isinstance(msg, HumanMessage)), None)\n",
    "\n",
    "    context = \"\"\n",
    "    if question:\n",
    "        #docs = vectordb.similarity_search(question, k=4)\n",
    "        #context = \"\\n\".join(doc.page_content for doc in docs)\n",
    "        context = \"my friends are Rahul and ganesh\"\n",
    "        historical_message = \"\\n\".join(f\"{msg.type.capitalize()}: {msg.content}\" for msg in messages)\n",
    "        print(\"history\", historical_message)\n",
    "        chain = prompt_context_question | llm | parser\n",
    "        answer = chain.invoke({\n",
    "                \"context\": context,\n",
    "                \"history\": historical_message,\n",
    "                \"question\": question\n",
    "            })\n",
    "        print(\"answer\", answer)\n",
    "\n",
    "        new_messages = messages + [AIMessage(content=answer)]\n",
    "\n",
    "        print(\"new_message\", new_messages)\n",
    "\n",
    "        return {\"messages\": new_messages}\n",
    "\n",
    "builder = StateGraph(MessagesState)\n",
    "builder.add_node(\"generate\", generate)\n",
    "builder.set_entry_point(\"generate\")\n",
    "builder.set_finish_point(\"generate\")\n",
    "\n",
    "graph = builder.compile(checkpointer=memory)"
   ]
  },
  {
   "cell_type": "code",
   "execution_count": 10,
   "id": "c723ad35-9075-4fb2-8de4-57f66303edc9",
   "metadata": {},
   "outputs": [
    {
     "data": {
      "image/png": "[encoded data removed]",
      "text/plain": [
       "<langgraph.graph.state.CompiledStateGraph object at 0x10bbeece0>"
      ]
     },
     "execution_count": 10,
     "metadata": {},
     "output_type": "execute_result"
    }
   ],
   "source": [
    "graph"
   ]
  },
  {
   "cell_type": "code",
   "execution_count": 19,
   "id": "6fe7edf3-e643-4637-8779-cb98ac85e6e7",
   "metadata": {},
   "outputs": [],
   "source": [
    "session_id = \"47b513aa-14f4-423e-946f-f3a2a9b84e75\""
   ]
  },
  {
   "cell_type": "code",
   "execution_count": 20,
   "id": "e26aaea3-dc1f-43e4-a453-ff1999f5f20e",
   "metadata": {},
   "outputs": [],
   "source": [
    "config = {\n",
    "            \"configurable\": {\n",
    "                \"thread_id\": session_id\n",
    "            }\n",
    "        }"
   ]
  },
  {
   "cell_type": "code",
   "execution_count": 21,
   "id": "cb217d7d-f714-4a0d-9698-5a9e2d8bec92",
   "metadata": {},
   "outputs": [],
   "source": [
    "user_message = \"what is my name\"\n",
    "input_message = HumanMessage(content=user_message)"
   ]
  },
  {
   "cell_type": "code",
   "execution_count": 22,
   "id": "094ae7db-3b8f-4e85-a1b0-d9a26735598b",
   "metadata": {},
   "outputs": [
    {
     "name": "stdout",
     "output_type": "stream",
     "text": [
      "history Human: what is my name\n",
      "Ai: I do not have access to your name.\n",
      "Human: my name is ashish\n",
      "Ai: I understand that your name is Ashish.\n",
      "Human: what is my name\n",
      "answer Ashish\n",
      "new_message [HumanMessage(content='what is my name', additional_kwargs={}, response_metadata={}, id='0fd2af7c-fa35-45c2-8e56-573e0a6d3272'), AIMessage(content='I do not have access to your name.', additional_kwargs={}, response_metadata={}, id='c8c03641-23f8-4921-8770-fb83e9fa9c93'), HumanMessage(content='my name is ashish', additional_kwargs={}, response_metadata={}, id='1f135f6e-bc7b-4213-88d6-361f1926b00d'), AIMessage(content='I understand that your name is Ashish.', additional_kwargs={}, response_metadata={}, id='34199970-a775-489b-8f79-97caffc89a91'), HumanMessage(content='what is my name', additional_kwargs={}, response_metadata={}, id='635bf29a-2d84-4a20-a86e-bd741825220b'), AIMessage(content='Ashish', additional_kwargs={}, response_metadata={})]\n"
     ]
    }
   ],
   "source": [
    "output = graph.invoke({\"messages\":[input_message]}, config)"
   ]
  },
  {
   "cell_type": "code",
   "execution_count": null,
   "id": "225548c0-ce92-4484-8e18-66a5a5102c8e",
   "metadata": {},
   "outputs": [],
   "source": []
  },
  {
   "cell_type": "code",
   "execution_count": null,
   "id": "96120d48-a072-4582-943d-0de43741fffb",
   "metadata": {},
   "outputs": [],
   "source": []
  },
  {
   "cell_type": "code",
   "execution_count": 47,
   "id": "2af8d36d-b0d2-4f97-86ee-7d9e78228026",
   "metadata": {},
   "outputs": [],
   "source": [
    "class CustomMessagesState(TypedDict):\n",
    "    messages: Annotated[list[AnyMessage], add_messages]"
   ]
  },
  {
   "cell_type": "code",
   "execution_count": 48,
   "id": "811757ef-cab2-4782-8af1-4e84baf3010e",
   "metadata": {},
   "outputs": [],
   "source": [
    "a = CustomMessagesState()"
   ]
  },
  {
   "cell_type": "code",
   "execution_count": 50,
   "id": "5f7712ee-dd29-4db2-a2ef-719185b44306",
   "metadata": {},
   "outputs": [
    {
     "data": {
      "text/plain": [
       "dict"
      ]
     },
     "execution_count": 50,
     "metadata": {},
     "output_type": "execute_result"
    }
   ],
   "source": [
    "type(a)"
   ]
  },
  {
   "cell_type": "code",
   "execution_count": 49,
   "id": "5c17f19d-1043-4e7c-a0aa-8fcd9b54d8c6",
   "metadata": {},
   "outputs": [
    {
     "data": {
      "text/plain": [
       "{}"
      ]
     },
     "execution_count": 49,
     "metadata": {},
     "output_type": "execute_result"
    }
   ],
   "source": [
    "a"
   ]
  },
  {
   "cell_type": "code",
   "execution_count": null,
   "id": "42e909e1-cd75-4b5c-a57b-835a1c58f1aa",
   "metadata": {},
   "outputs": [],
   "source": []
  }
 ],
 "metadata": {
  "kernelspec": {
   "display_name": "Python 3 (ipykernel)",
   "language": "python",
   "name": "python3"
  },
  "language_info": {
   "codemirror_mode": {
    "name": "ipython",
    "version": 3
   },
   "file_extension": ".py",
   "mimetype": "text/x-python",
   "name": "python",
   "nbconvert_exporter": "python",
   "pygments_lexer": "ipython3",
   "version": "3.10.14"
  }
 },
 "nbformat": 4,
 "nbformat_minor": 5
}
